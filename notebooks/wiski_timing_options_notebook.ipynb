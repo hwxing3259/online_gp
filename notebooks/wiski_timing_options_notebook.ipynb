{
 "cells": [
  {
   "cell_type": "code",
   "execution_count": 1,
   "metadata": {},
   "outputs": [],
   "source": [
    "import online_gp\n",
    "import gpytorch\n",
    "import torch\n",
    "import time"
   ]
  },
  {
   "cell_type": "code",
   "execution_count": 2,
   "metadata": {},
   "outputs": [],
   "source": [
    "from online_gp.models import FixedNoiseOnlineSKIGP\n",
    "from online_gp.mlls.batched_woodbury_marginal_log_likelihood import BatchedWoodburyMarginalLogLikelihood\n",
    "from botorch import fit_gpytorch_model"
   ]
  },
  {
   "cell_type": "code",
   "execution_count": 3,
   "metadata": {},
   "outputs": [],
   "source": [
    "import matplotlib.pyplot as plt"
   ]
  },
  {
   "cell_type": "code",
   "execution_count": 4,
   "metadata": {},
   "outputs": [],
   "source": [
    "# torch.set_default_tensor_type(torch.cuda.FloatTensor)"
   ]
  },
  {
   "cell_type": "code",
   "execution_count": 5,
   "metadata": {},
   "outputs": [],
   "source": [
    "train_x = torch.randn(300, 3)\n",
    "train_y = torch.sin(train_x @ train_x.t()).sum(dim=-1, keepdim=True)"
   ]
  },
  {
   "cell_type": "code",
   "execution_count": 6,
   "metadata": {},
   "outputs": [
    {
     "name": "stdout",
     "output_type": "stream",
     "text": [
      "Automatic pdb calling has been turned ON\n"
     ]
    }
   ],
   "source": [
    "%pdb"
   ]
  },
  {
   "cell_type": "code",
   "execution_count": 7,
   "metadata": {},
   "outputs": [],
   "source": [
    "def time_posterior(ntest, nsamples, device, model, dim=3):\n",
    "    model = model.to(device)\n",
    "    model.train()\n",
    "    model.zero_grad()\n",
    "    \n",
    "    start = time.time()\n",
    "    test_x = torch.rand(ntest, dim, device = device, requires_grad=True)\n",
    "    \n",
    "    model.eval()\n",
    "    \n",
    "    model(test_x).rsample(torch.Size((nsamples,))).norm().backward()  \n",
    "    end = time.time()\n",
    "    return end - start\n",
    "    "
   ]
  },
  {
   "cell_type": "code",
   "execution_count": 8,
   "metadata": {},
   "outputs": [],
   "source": [
    "nsamples_list = range(100, 15000, 500)"
   ]
  },
  {
   "cell_type": "code",
   "execution_count": 9,
   "metadata": {},
   "outputs": [],
   "source": [
    "model = FixedNoiseOnlineSKIGP(train_x, train_y, 0.001 * torch.ones_like(train_y), grid_size=15)\n",
    "model.train()\n",
    "with gpytorch.settings.use_toeplitz(False):\n",
    "    fit_gpytorch_model(\n",
    "        BatchedWoodburyMarginalLogLikelihood(model.likelihood, model, clear_caches_every_iteration=True)\n",
    "    );"
   ]
  },
  {
   "cell_type": "code",
   "execution_count": 10,
   "metadata": {},
   "outputs": [],
   "source": [
    "with gpytorch.settings.fast_pred_var(True), gpytorch.settings.fast_pred_samples(False), \\\n",
    "    gpytorch.settings.max_cholesky_size(1000), gpytorch.settings.use_toeplitz(False):\n",
    "    \n",
    "    #cpu_fast_pred_var_no_fps = [time_posterior(10000, ns, torch.device(\"cpu\"), model) for ns in nsamples_list]\n",
    "    \n",
    "    cuda_fast_pred_var_no_fps = [time_posterior(10000, ns, torch.device(\"cuda:1\"), model) for ns in nsamples_list]"
   ]
  },
  {
   "cell_type": "code",
   "execution_count": 11,
   "metadata": {},
   "outputs": [],
   "source": [
    "model = FixedNoiseOnlineSKIGP(train_x, train_y, 0.001 * torch.ones_like(train_y), grid_size=15)\n",
    "model.train()\n",
    "with gpytorch.settings.use_toeplitz(False):\n",
    "    fit_gpytorch_model(\n",
    "        BatchedWoodburyMarginalLogLikelihood(model.likelihood, model, clear_caches_every_iteration=True)\n",
    "    );"
   ]
  },
  {
   "cell_type": "code",
   "execution_count": 12,
   "metadata": {},
   "outputs": [],
   "source": [
    "with gpytorch.settings.fast_pred_var(False), gpytorch.settings.fast_pred_samples(False), \\\n",
    "    gpytorch.settings.max_cholesky_size(1000), gpytorch.settings.use_toeplitz(False):\n",
    "    #cpu_cholesky_no_fps = [time_posterior(10000, ns, torch.device(\"cpu\"), model) for ns in nsamples_list]\n",
    "    \n",
    "    cuda_cholesky_no_fps = [time_posterior(10000, ns, torch.device(\"cuda:1\"), model) for ns in nsamples_list]"
   ]
  },
  {
   "cell_type": "code",
   "execution_count": 13,
   "metadata": {},
   "outputs": [],
   "source": [
    "model = FixedNoiseOnlineSKIGP(train_x, train_y, 0.001 * torch.ones_like(train_y), grid_size=15)\n",
    "model.train()\n",
    "with gpytorch.settings.use_toeplitz(False):\n",
    "    fit_gpytorch_model(\n",
    "        BatchedWoodburyMarginalLogLikelihood(model.likelihood, model, clear_caches_every_iteration=True)\n",
    "    );"
   ]
  },
  {
   "cell_type": "code",
   "execution_count": 14,
   "metadata": {},
   "outputs": [],
   "source": [
    "with gpytorch.settings.fast_pred_var(True), gpytorch.settings.fast_pred_samples(True), \\\n",
    "    gpytorch.settings.max_cholesky_size(100), gpytorch.settings.use_toeplitz(False):\n",
    "    \n",
    "    #cpu_fast_pred_var = [time_posterior(10000, ns, torch.device(\"cpu\"), model) for ns in nsamples_list]\n",
    "    \n",
    "    cuda_fast_pred_var = [time_posterior(10000, ns, torch.device(\"cuda:1\"), model) for ns in nsamples_list]"
   ]
  },
  {
   "cell_type": "code",
   "execution_count": 15,
   "metadata": {},
   "outputs": [],
   "source": [
    "model = FixedNoiseOnlineSKIGP(train_x, train_y, 0.001 * torch.ones_like(train_y), grid_size=15)\n",
    "model.train()\n",
    "with gpytorch.settings.use_toeplitz(False):\n",
    "    fit_gpytorch_model(\n",
    "        BatchedWoodburyMarginalLogLikelihood(model.likelihood, model, clear_caches_every_iteration=True)\n",
    "    );"
   ]
  },
  {
   "cell_type": "code",
   "execution_count": 16,
   "metadata": {},
   "outputs": [],
   "source": [
    "with gpytorch.settings.fast_pred_var(False), gpytorch.settings.fast_pred_samples(True), \\\n",
    "    gpytorch.settings.max_cholesky_size(1000), gpytorch.settings.use_toeplitz(False):\n",
    "    #cpu_cholesky_no_fps = [time_posterior(10000, ns, torch.device(\"cpu\"), model) for ns in nsamples_list]\n",
    "    \n",
    "    cuda_cholesky = [time_posterior(10000, ns, torch.device(\"cuda:1\"), model) for ns in nsamples_list]"
   ]
  },
  {
   "cell_type": "code",
   "execution_count": 17,
   "metadata": {},
   "outputs": [],
   "source": [
    "from botorch.models import FixedNoiseGP\n",
    "from gpytorch.mlls import ExactMarginalLogLikelihood\n",
    "\n",
    "exact_model = FixedNoiseGP(train_x, train_y, 0.001 * torch.ones_like(train_y))\n",
    "fit_gpytorch_model(ExactMarginalLogLikelihood(exact_model.likelihood, exact_model));"
   ]
  },
  {
   "cell_type": "code",
   "execution_count": 18,
   "metadata": {},
   "outputs": [],
   "source": [
    "with gpytorch.settings.fast_pred_var(True), gpytorch.settings.fast_pred_samples(True), \\\n",
    "    gpytorch.settings.max_cholesky_size(1000):   \n",
    "    botorch_exact = [time_posterior(10000, ns, torch.device(\"cuda:1\"), exact_model) for ns in nsamples_list]"
   ]
  },
  {
   "cell_type": "code",
   "execution_count": 19,
   "metadata": {},
   "outputs": [
    {
     "data": {
      "text/plain": [
       "(0.1, 0.3)"
      ]
     },
     "execution_count": 19,
     "metadata": {},
     "output_type": "execute_result"
    },
    {
     "data": {
      "image/png": "[encoded data removed]",
      "text/plain": [
       "<Figure size 432x288 with 1 Axes>"
      ]
     },
     "metadata": {
      "needs_background": "light"
     },
     "output_type": "display_data"
    }
   ],
   "source": [
    "plt.plot(nsamples_list, cuda_fast_pred_var_no_fps, label = \"Fast Pred Var + No Fast Pred Samples\")\n",
    "plt.plot(nsamples_list, cuda_fast_pred_var, label = \"Fast Pred Var + Fast Pred Samples\")\n",
    "plt.plot(nsamples_list, cuda_cholesky_no_fps, label = \"No Fast Pred Var + No Fast Pred Samples\")\n",
    "plt.plot(nsamples_list, cuda_cholesky, label = \"No Fast Pred Var + Fast Pred Samples\")\n",
    "plt.plot(nsamples_list, botorch_exact, color = \"black\", label = \"Exact + LOVE\")\n",
    "plt.legend()\n",
    "\n",
    "plt.ylim((0.1, 0.3))"
   ]
  },
  {
   "cell_type": "code",
   "execution_count": null,
   "metadata": {},
   "outputs": [],
   "source": []
  }
 ],
 "metadata": {
  "kernelspec": {
   "display_name": "Python 3",
   "language": "python",
   "name": "python3"
  },
  "language_info": {
   "codemirror_mode": {
    "name": "ipython",
    "version": 3
   },
   "file_extension": ".py",
   "mimetype": "text/x-python",
   "name": "python",
   "nbconvert_exporter": "python",
   "pygments_lexer": "ipython3",
   "version": "3.7.6"
  }
 },
 "nbformat": 4,
 "nbformat_minor": 4
}
